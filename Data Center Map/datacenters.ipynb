{
 "cells": [
  {
   "cell_type": "code",
   "execution_count": 1,
   "metadata": {},
   "outputs": [],
   "source": [
    "from bs4 import BeautifulSoup\n",
    "from urllib.request import urlopen"
   ]
  },
  {
   "cell_type": "code",
   "execution_count": 2,
   "metadata": {},
   "outputs": [],
   "source": [
    "url = 'http://www.datacentermap.com/argentina/buenos-aires/'"
   ]
  },
  {
   "cell_type": "code",
   "execution_count": 4,
   "metadata": {},
   "outputs": [],
   "source": [
    "url_html = urlopen(url).read()\n",
    "soup = BeautifulSoup(url_html, 'html.parser')"
   ]
  },
  {
   "cell_type": "code",
   "execution_count": 5,
   "metadata": {},
   "outputs": [],
   "source": [
    "data_centers = soup.findAll('div', {'class':'DCColumn1'})"
   ]
  },
  {
   "cell_type": "code",
   "execution_count": 23,
   "metadata": {},
   "outputs": [
    {
     "name": "stdout",
     "output_type": "stream",
     "text": [
      "HOUSING.COM.AR\n",
      "Inter.net Argentina\n",
      "Telecom Argentina\n",
      "Neolo.com\n",
      "Ultrasitios\n",
      "NXnet Solutions\n",
      "SkyOnline\n",
      "BAEHOST Web Hosting & Cloud\n",
      "G2K Argentina\n",
      "Servicios y Telecomunicaciones SA\n"
     ]
    }
   ],
   "source": [
    "for center in data_centers:\n",
    "    \n",
    "    dc = center.findAll('a')[0]\n",
    "    com = center.findAll('a')[1]\n",
    "    #print(center.a['title'])\n",
    "    #print(center.text.strip().replace('» Visit website','').replace('» View profile',''))\n",
    "    print(com.text)\n",
    "    "
   ]
  },
  {
   "cell_type": "code",
   "execution_count": null,
   "metadata": {},
   "outputs": [],
   "source": []
  }
 ],
 "metadata": {
  "kernelspec": {
   "display_name": "Python 3",
   "language": "python",
   "name": "python3"
  },
  "language_info": {
   "codemirror_mode": {
    "name": "ipython",
    "version": 3
   },
   "file_extension": ".py",
   "mimetype": "text/x-python",
   "name": "python",
   "nbconvert_exporter": "python",
   "pygments_lexer": "ipython3",
   "version": "3.5.2"
  }
 },
 "nbformat": 4,
 "nbformat_minor": 2
}
