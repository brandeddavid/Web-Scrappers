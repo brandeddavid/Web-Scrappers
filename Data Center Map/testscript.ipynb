{
 "cells": [
  {
   "cell_type": "code",
   "execution_count": 11,
   "metadata": {},
   "outputs": [],
   "source": [
    "from bs4 import BeautifulSoup\n",
    "from urllib.request import urlopen"
   ]
  },
  {
   "cell_type": "code",
   "execution_count": 12,
   "metadata": {},
   "outputs": [],
   "source": [
    "url = 'http://www.datacentermap.com/datacenters.html'"
   ]
  },
  {
   "cell_type": "code",
   "execution_count": 13,
   "metadata": {},
   "outputs": [],
   "source": [
    "url_html = urlopen(url).read()"
   ]
  },
  {
   "cell_type": "code",
   "execution_count": 19,
   "metadata": {},
   "outputs": [],
   "source": [
    "soup = BeautifulSoup(url_html, 'html.parser')"
   ]
  },
  {
   "cell_type": "code",
   "execution_count": 22,
   "metadata": {},
   "outputs": [],
   "source": [
    "column1 = soup.findAll('div', {'class':'column1'})"
   ]
  },
  {
   "cell_type": "code",
   "execution_count": 23,
   "metadata": {},
   "outputs": [],
   "source": [
    "column2 = soup.findAll('div', {'class':'column2'})"
   ]
  },
  {
   "cell_type": "code",
   "execution_count": 32,
   "metadata": {},
   "outputs": [],
   "source": [
    "column3 = soup.findAll('div', {'class':'column3'})"
   ]
  },
  {
   "cell_type": "code",
   "execution_count": 35,
   "metadata": {},
   "outputs": [
    {
     "name": "stdout",
     "output_type": "stream",
     "text": [
      "/afghanistan/ Afghanistan Colocation Data Centers Afghanistan (1)\n",
      "/algeria/ Algeria Colocation Data Centers Algeria (1)\n",
      "/angola/ Angola Colocation Data Centers Angola (3)\n",
      "/argentina/ Argentina Colocation Data Centers Argentina (11)\n",
      "/australia/ Australia Colocation Data Centers Australia (105)\n",
      "/austria/ Austria Colocation Data Centers Austria (17)\n",
      "/azerbaijan/ Azerbaijan Colocation Data Centers Azerbaijan (3)\n",
      "/bahrain/ Bahrain Colocation Data Centers Bahrain (2)\n",
      "/bangladesh/ Bangladesh Colocation Data Centers Bangladesh (3)\n",
      "/belarus/ Belarus Colocation Data Centers Belarus (2)\n",
      "/belgium/ Belgium Colocation Data Centers Belgium (32)\n",
      "/bermuda/ Bermuda Colocation Data Centers Bermuda (1)\n",
      "/bolivia/ Bolivia Colocation Data Centers Bolivia (2)\n",
      "/bosnia-and-herzegovina/ Bosnia And Herzegovina Colocation Data Centers Bosnia And Herzegovina (1)\n",
      "/brazil/ Brazil Colocation Data Centers Brazil (41)\n",
      "/bulgaria/ Bulgaria Colocation Data Centers Bulgaria (20)\n",
      "/cambodia/ Cambodia Colocation Data Centers Cambodia (4)\n",
      "/canada/ Canada Colocation Data Centers Canada (162)\n",
      "/cayman-islands/ Cayman Islands Colocation Data Centers Cayman Islands (2)\n",
      "/chile/ Chile Colocation Data Centers Chile (9)\n",
      "/china/ China Colocation Data Centers China (74)\n",
      "/colombia/ Colombia Colocation Data Centers Colombia (6)\n",
      "/costa-rica/ Costa Rica Colocation Data Centers Costa Rica (7)\n",
      "/croatia/ Croatia Colocation Data Centers Croatia (5)\n",
      "/cyprus/ Cyprus Colocation Data Centers Cyprus (13)\n",
      "/czech-republic/ Czech Republic Colocation Data Centers Czech Republic (24)\n",
      "/denmark/ Denmark Colocation Data Centers Denmark (29)\n",
      "/dr-congo/ Dr Congo Colocation Data Centers Dr Congo (1)\n",
      "/ecuador/ Ecuador Colocation Data Centers Ecuador (1)\n",
      "/egypt/ Egypt Colocation Data Centers Egypt (12)\n",
      "/estonia/ Estonia Colocation Data Centers Estonia (10)\n",
      "/finland/ Finland Colocation Data Centers Finland (18)\n",
      "/france/ France Colocation Data Centers France (143)\n",
      "/french-polynesia/ French Polynesia Colocation Data Centers French Polynesia (1)\n",
      "/georgia/ Georgia Colocation Data Centers Georgia (3)\n",
      "/germany/ Germany Colocation Data Centers Germany (186)\n",
      "/ghana/ Ghana Colocation Data Centers Ghana (2)\n",
      "/gibraltar/ Gibraltar Colocation Data Centers Gibraltar (5)\n",
      "/greece/ Greece Colocation Data Centers Greece (14)\n",
      "/greenland/ Greenland Colocation Data Centers Greenland (1)\n",
      "/guatemala/ Guatemala Colocation Data Centers Guatemala (1)\n"
     ]
    }
   ],
   "source": [
    "for link in column1[0].findAll('a'):\n",
    "    \n",
    "    print(link['href'], link['title'], link.text)"
   ]
  },
  {
   "cell_type": "code",
   "execution_count": null,
   "metadata": {},
   "outputs": [],
   "source": []
  }
 ],
 "metadata": {
  "kernelspec": {
   "display_name": "Python 3",
   "language": "python",
   "name": "python3"
  },
  "language_info": {
   "codemirror_mode": {
    "name": "ipython",
    "version": 3
   },
   "file_extension": ".py",
   "mimetype": "text/x-python",
   "name": "python",
   "nbconvert_exporter": "python",
   "pygments_lexer": "ipython3",
   "version": "3.5.2"
  }
 },
 "nbformat": 4,
 "nbformat_minor": 2
}
