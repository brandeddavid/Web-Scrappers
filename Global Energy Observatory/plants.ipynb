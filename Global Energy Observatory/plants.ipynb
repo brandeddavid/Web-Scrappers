{
 "cells": [
  {
   "cell_type": "code",
   "execution_count": 23,
   "metadata": {},
   "outputs": [],
   "source": [
    "from selenium import webdriver\n",
    "from selenium.webdriver.support.ui import Select\n",
    "import time\n",
    "import csv"
   ]
  },
  {
   "cell_type": "code",
   "execution_count": 24,
   "metadata": {},
   "outputs": [],
   "source": [
    "        browser = webdriver.Firefox(executable_path=r'C:\\Users\\ict\\Documents\\My Docs\\GIT Projects\\Web-Scrappers\\Global Energy Observatory\\geckodriver.exe')"
   ]
  },
  {
   "cell_type": "code",
   "execution_count": 25,
   "metadata": {},
   "outputs": [],
   "source": [
    "url = 'http://globalenergyobservatory.org/select.php?tgl=Edit'"
   ]
  },
  {
   "cell_type": "code",
   "execution_count": 22,
   "metadata": {
    "scrolled": true
   },
   "outputs": [
    {
     "name": "stdout",
     "output_type": "stream",
     "text": [
      "Argentina\n",
      "Australia\n",
      "Austria\n",
      "Bangladesh\n",
      "Belgium\n",
      "Bosnia and Herzegovina\n",
      "Botswana\n",
      "Brazil\n",
      "Bulgaria\n",
      "Canada\n",
      "Chile\n",
      "China\n",
      "Colombia\n",
      "Croatia\n",
      "Czech Republic\n",
      "Denmark\n",
      "Finland\n",
      "France\n",
      "Germany\n",
      "Greece\n",
      "Guatemala\n",
      "Hong Kong\n",
      "Hungary\n",
      "India\n",
      "Indonesia\n",
      "Ireland\n",
      "Israel\n",
      "Italy\n",
      "Japan\n",
      "Kazakhstan\n",
      "Kosovo\n",
      "Kyrgyzstan\n",
      "Malaysia\n",
      "Mexico\n",
      "Mongolia\n",
      "Montenegro\n",
      "Morocco\n",
      "Myanmar\n",
      "Namibia\n",
      "Netherlands\n",
      "New Zealand\n",
      "Pakistan\n",
      "Panama\n",
      "Peru\n",
      "Philippines\n",
      "Poland\n",
      "Portugal\n",
      "Republic of China Taiwan\n",
      "Republic of Korea\n",
      "Republic of Macedonia\n",
      "Republic of Moldova\n",
      "Romania\n",
      "Russian Federation\n",
      "Serbia\n",
      "Slovakia\n",
      "Slovenia\n",
      "South Africa\n",
      "Spain\n",
      "Sri Lanka\n",
      "Thailand\n",
      "Turkey\n",
      "Ukraine\n",
      "United Kingdom\n",
      "United States of America\n",
      "Uzbekistan\n",
      "Viet Nam\n",
      "Zimbabwe\n"
     ]
    }
   ],
   "source": [
    "browser.get(url)\n",
    "\n",
    "catergory = browser.find_element_by_xpath('//*[@id=\"db\"]/option[1]')\n",
    "catergory.click()\n",
    "time.sleep(3)\n",
    "\n",
    "ptype = browser.find_element_by_xpath('//*[@id=\"Type\"]/option[1]')\n",
    "ptype.click()\n",
    "time.sleep(3)\n",
    "\n",
    "country = browser.find_element_by_xpath('//*[@id=\"Country\"]')\n",
    "country_name = country.text.split('\\n')\n",
    "\n",
    "print(country_name)\n",
    "#country.click()\n",
    "time.sleep(3)\n",
    "                                        \n",
    "browser.close()"
   ]
  },
  {
   "cell_type": "code",
   "execution_count": null,
   "metadata": {},
   "outputs": [],
   "source": []
  }
 ],
 "metadata": {
  "kernelspec": {
   "display_name": "Python 3",
   "language": "python",
   "name": "python3"
  },
  "language_info": {
   "codemirror_mode": {
    "name": "ipython",
    "version": 3
   },
   "file_extension": ".py",
   "mimetype": "text/x-python",
   "name": "python",
   "nbconvert_exporter": "python",
   "pygments_lexer": "ipython3",
   "version": "3.5.2"
  }
 },
 "nbformat": 4,
 "nbformat_minor": 2
}
